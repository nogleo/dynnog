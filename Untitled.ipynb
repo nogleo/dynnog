{
 "cells": [
  {
   "cell_type": "code",
   "execution_count": 1,
   "metadata": {},
   "outputs": [],
   "source": [
    "_6import sympy as sm\n",
    "import sympy.physics.mechanics as me\n",
    "me.init_vprinting()"
   ]
  },
  {
   "cell_type": "code",
   "execution_count": 2,
   "metadata": {},
   "outputs": [
    {
     "name": "stderr",
     "output_type": "stream",
     "text": [
      "WARNING (theano.tensor.blas): Using NumPy C-API based implementation for BLAS functions.\n"
     ]
    }
   ],
   "source": [
    "from pydy.system import System\n",
    "import numpy as np  # provides basic array types and some linear algebra\n",
    "import matplotlib.pyplot as plt  # used for plots"
   ]
  },
  {
   "cell_type": "code",
   "execution_count": 3,
   "metadata": {},
   "outputs": [],
   "source": [
    "q = me.dynamicsymbols('q0:15')\n",
    "u = me.dynamicsymbols('u0:15')\n",
    "qd = me.dynamicsymbols('q0:15', 1)\n",
    "ud = me.dynamicsymbols('u0:15', 1)\n",
    "\n",
    "m1, m2, m3, m4, g = sm.symbols('m1:5 g')\n",
    "I = sm.symbols('I1:5x:z')\n",
    "kg = sm.symbols('kgx:z')\n",
    "ks = sm.symbols('ksx:z')\n",
    "cg = sm.symbols('cgx:z')\n",
    "cs = sm.symbols('csx:z')\n",
    "la = sm.symbols('la0:4x:z')\n",
    "lb = sm.symbols('lb0:4x:z')\n",
    "lc = sm.symbols('lc0:4x:z')\n",
    "ld = sm.symbols('ld0:4x:z')\n",
    "le = sm.symbols('lex:z')\n",
    "lf = sm.symbols('lfx:z')\n",
    "lg = sm.symbols('lgx:z')\n",
    "lcr = sm.symbols('l_cr')\n"
   ]
  },
  {
   "cell_type": "code",
   "execution_count": 7,
   "metadata": {},
   "outputs": [],
   "source": [
    "N0 = me.ReferenceFrame('N_0')\n",
    "N1 = N0.orientnew('N_1', 'Body', (q[0], q[1], q[2]), '123')\n",
    "N2 = N0.orientnew('N_2', 'Body', (q[3], q[4], q[5]), '123')\n",
    "N3 = N2.orientnew('N_3', 'Axis', (q[12], N2.y))\n",
    "N4 = N3.orientnew('N_4', 'Axis', (q[13], N3.y))"
   ]
  },
  {
   "cell_type": "code",
   "execution_count": 6,
   "metadata": {},
   "outputs": [
    {
     "data": {
      "text/plain": [
       "list"
      ]
     },
     "execution_count": 6,
     "metadata": {},
     "output_type": "execute_result"
    }
   ],
   "source": [
    "P0 = me.Point('P_0')\n",
    "P0.set_vel(N0, 0)\n",
    "\n",
    "P1 = P0.locatenew('P_1', q[6]*N0.x + q[7]*N0.y + q[8]*N0.z)\n",
    "P2 = P0.locatenew('P_2', q[9]*N0.x + q[10]*N0.y + q[11]*N0.z)\n",
    "P3 = P2.locatenew('P_3', le[0]*N2.x + le[1]*N2.y + le[2]*N2.z)\n",
    "P34 = P3.locatenew('P_34', lf[0]*N3.x + lf[1]*N3.y + lf[2]*N3.z)\n",
    "P4 = P34.locatenew('P_4', lcr/2*N4.x)\n",
    "CW = P3.locatenew('CW',P10 )\n",
    "PH = P2.locatenew(\"PH\", q[14]*N2.x + lg[1]*N2.y + lg[2]*N2.z)\n",
    "P1.set_vel(N0, u[6]*N0.x + u[7]*N0.y + u[8]*N0.z)\n",
    "P2.set_vel(N0,  u[9]*N0.x + u[10]*N0.y + u[11]*N0.z)\n",
    "P3.v2pt_theory(P2, N0, N2)"
   ]
  }
 ],
 "metadata": {
  "kernelspec": {
   "display_name": "Python 3",
   "language": "python",
   "name": "python3"
  },
  "language_info": {
   "codemirror_mode": {
    "name": "ipython",
    "version": 3
   },
   "file_extension": ".py",
   "mimetype": "text/x-python",
   "name": "python",
   "nbconvert_exporter": "python",
   "pygments_lexer": "ipython3",
   "version": "3.8.5"
  }
 },
 "nbformat": 4,
 "nbformat_minor": 4
}
