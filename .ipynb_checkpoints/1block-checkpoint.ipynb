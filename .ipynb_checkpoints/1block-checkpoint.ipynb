{
 "cells": [
  {
   "cell_type": "markdown",
   "metadata": {},
   "source": [
    "\n"
   ]
  },
  {
   "cell_type": "markdown",
   "metadata": {},
   "source": [
    "# Block Over 4 Springs\n",
    "\n",
    "Using Sympy to model a body over 4 springs \n"
   ]
  },
  {
   "cell_type": "code",
   "execution_count": 45,
   "metadata": {},
   "outputs": [],
   "source": [
    "from __future__ import division, print_function"
   ]
  },
  {
   "cell_type": "code",
   "execution_count": 2,
   "metadata": {},
   "outputs": [],
   "source": [
    "import sympy as sm\n",
    "import sympy.physics.mechanics as me\n",
    "import matplotlib.pyplot as plt\n",
    "import numpy as np\n",
    "from pydy.system import System\n",
    "me.init_vprinting()\n",
    "%matplotlib inline"
   ]
  },
  {
   "cell_type": "markdown",
   "metadata": {},
   "source": [
    "Define the symbols and dynamic symbols to be used in tyhe model"
   ]
  },
  {
   "cell_type": "code",
   "execution_count": 4,
   "metadata": {},
   "outputs": [],
   "source": [
    "Lx, Lz = sm.symbols('Lx, Lz')"
   ]
  },
  {
   "cell_type": "code",
   "execution_count": 5,
   "metadata": {},
   "outputs": [],
   "source": [
    "\n",
    "\n",
    "q = me.dynamicsymbols('q:6')\n",
    "u = me.dynamicsymbols('u:6')\n",
    "ud = me.dynamicsymbols('u:6', 1)\n",
    "\n",
    "\n",
    "k = sm.symbols('kx:z')\n",
    "m, g, ls = sm.symbols('m, g, l_spring')\n",
    "\n",
    "Ib = sm.symbols('Ibx:z')"
   ]
  },
  {
   "cell_type": "markdown",
   "metadata": {},
   "source": [
    "## Create World Reference\n"
   ]
  },
  {
   "cell_type": "code",
   "execution_count": 70,
   "metadata": {},
   "outputs": [],
   "source": [
    "N = me.ReferenceFrame('N')\n",
    "\n",
    "O = me.Point('O')\n",
    "O.set_vel(N, 0*N.x + 0*N.y + 0*N.z)\n",
    "Li = [O.locatenew('Li1',  Lx * N.x + 0 * N.y + Lz * N.z),\n",
    "      O.locatenew('Li2', -Lx * N.x + 0 * N.y + Lz * N.z),\n",
    "      O.locatenew('Li3', -Lx * N.x + 0 * N.y - Lz * N.z),\n",
    "      O.locatenew('Li4',  Lx * N.x + 0 * N.y - Lz * N.z)]"
   ]
  },
  {
   "cell_type": "markdown",
   "metadata": {},
   "source": [
    "## Create Block Reference"
   ]
  },
  {
   "cell_type": "code",
   "execution_count": 7,
   "metadata": {},
   "outputs": [],
   "source": [
    "B = N.orientnew('B', 'Body', (q[0], q[1], q[2]), '123')\n",
    "B.set_ang_vel(N, u[0] * N.x + u[1] * N.y + u[2] * N.z)\n",
    "CMb = O.locatenew('CM_b', q[3]*N.x + q[4]*N.y + q[5]*N.z)\n",
    "CMb.set_vel(N, u[3] * N.x + u[4] * N.y + u[5] * N.z )"
   ]
  },
  {
   "cell_type": "code",
   "execution_count": 8,
   "metadata": {},
   "outputs": [],
   "source": [
    "Ls = [Li[0].locatenew('Ls1', ls * N.y ),\n",
    "      Li[1].locatenew('Ls2', ls * N.y ),\n",
    "      Li[2].locatenew('Ls3', ls * N.y ),\n",
    "      Li[3].locatenew('Ls4', ls * N.y )]"
   ]
  },
  {
   "cell_type": "code",
   "execution_count": 9,
   "metadata": {},
   "outputs": [],
   "source": [
    "I = me.inertia(B, Ib[0], Ib[1], Ib[2])\n",
    "block = me.RigidBody('block', CMb, B, m, (I, CMb))"
   ]
  },
  {
   "cell_type": "code",
   "execution_count": 10,
   "metadata": {},
   "outputs": [],
   "source": [
    "loads = [(CMb, -m * g * N.y)]\n"
   ]
  },
  {
   "cell_type": "code",
   "execution_count": 11,
   "metadata": {},
   "outputs": [
    {
     "data": {
      "image/png": "[encoded data removed]",
      "text/latex": [
       "$\\displaystyle u_{3}\\mathbf{\\hat{n}_x} + u_{4}\\mathbf{\\hat{n}_y} + u_{5}\\mathbf{\\hat{n}_z}$"
      ],
      "text/plain": [
       "u₃ n_x + u₄ n_y + u₅ n_z"
      ]
     },
     "execution_count": 11,
     "metadata": {},
     "output_type": "execute_result"
    }
   ],
   "source": [
    "CMb.vel(N)"
   ]
  },
  {
   "cell_type": "code",
   "execution_count": 12,
   "metadata": {},
   "outputs": [],
   "source": [
    "for i in range(4):\n",
    "    loads.append((Ls[i], -k[0]*Ls[i].pos_from(Li[i]).dot(N.x)*N.x + k[1]*(ls - Ls[i].pos_from(Li[i]).dot(N.y))*N.y - k[2]*Ls[i].pos_from(Li[i]).dot(N.z)*N.z))\n",
    "    Li[i].v2pt_theory(O, N, N)\n",
    "    Ls[i].v2pt_theory(CMb, N, B)\n",
    "\n"
   ]
  },
  {
   "cell_type": "code",
   "execution_count": 52,
   "metadata": {},
   "outputs": [
    {
     "data": {
      "image/png": "[encoded data removed]",
      "text/latex": [
       "$\\displaystyle \\left[ - u_{0} + \\dot{q}_{0}, \\  - u_{1} + \\dot{q}_{1}, \\  - u_{2} + \\dot{q}_{2}, \\  - u_{3} + \\dot{q}_{3}, \\  - u_{4} + \\dot{q}_{4}, \\  - u_{5} + \\dot{q}_{5}\\right]$"
      ],
      "text/plain": [
       "[-u₀ + q₀̇, -u₁ + q₁̇, -u₂ + q₂̇, -u₃ + q₃̇, -u₄ + q₄̇, -u₅ + q₅̇]"
      ]
     },
     "execution_count": 52,
     "metadata": {},
     "output_type": "execute_result"
    }
   ],
   "source": [
    "kdes = [q[0].diff() - u[0],\n",
    "        q[1].diff() - u[1],\n",
    "        q[2].diff() - u[2],\n",
    "        q[3].diff() - u[3],\n",
    "        q[4].diff() - u[4],\n",
    "        q[5].diff() - u[5]]\n",
    "\n",
    "kdes"
   ]
  },
  {
   "cell_type": "code",
   "execution_count": 23,
   "metadata": {},
   "outputs": [],
   "source": [
    "sys = System(kane)\n"
   ]
  },
  {
   "cell_type": "code",
   "execution_count": 16,
   "metadata": {},
   "outputs": [
    {
     "data": {
      "image/png": "[encoded data removed]",
      "text/latex": [
       "$\\displaystyle (Lx - q_{3})\\mathbf{\\hat{n}_x} + (l_{spring} - q_{4})\\mathbf{\\hat{n}_y} + (Lz - q_{5})\\mathbf{\\hat{n}_z}$"
      ],
      "text/plain": [
       "(Lx - q₃) n_x + (l_spring - q₄) n_y + (Lz - q₅) n_z"
      ]
     },
     "execution_count": 16,
     "metadata": {},
     "output_type": "execute_result"
    }
   ],
   "source": [
    "Ls[0].vel(N)\n",
    "Ls[0].pos_from(CMb)\n"
   ]
  },
  {
   "cell_type": "code",
   "execution_count": 55,
   "metadata": {},
   "outputs": [
    {
     "data": {
      "image/png": "[encoded data removed]",
      "text/latex": [
       "$\\displaystyle \\left[ \\dot{q}_{0} = u_{0}, \\  \\dot{q}_{1} = u_{1}, \\  \\dot{q}_{2} = u_{2}, \\  \\dot{q}_{3} = u_{3}, \\  \\dot{q}_{4} = u_{4}, \\  \\dot{q}_{5} = u_{5}\\right]$"
      ],
      "text/plain": [
       "[q₀̇ = u₀, q₁̇ = u₁, q₂̇ = u₂, q₃̇ = u₃, q₄̇ = u₄, q₅̇ = u₅]"
      ]
     },
     "execution_count": 55,
     "metadata": {},
     "output_type": "execute_result"
    }
   ],
   "source": [
    "eqs = [sm.Eq(q[0].diff(), B.ang_vel_in(N).dot(N.x)),  \n",
    "       sm.Eq(q[1].diff(), B.ang_vel_in(N).dot(N.y)), \n",
    "       sm.Eq(q[2].diff(), B.ang_vel_in(N).dot(N.z)),  \n",
    "       sm.Eq(q[3].diff(), CMb.vel(N).dot(N.x)),  \n",
    "       sm.Eq(q[4].diff(), CMb.vel(N).dot(N.y)),  \n",
    "       sm.Eq(q[5].diff(), CMb.vel(N).dot(N.z))]\n",
    "\n",
    "\n",
    "\n",
    "eqs"
   ]
  },
  {
   "cell_type": "code",
   "execution_count": 57,
   "metadata": {},
   "outputs": [
    {
     "data": {
      "image/png": "[encoded data removed]",
      "text/latex": [
       "$\\displaystyle \\left[ u_{0} - \\dot{q}_{0}, \\  u_{1} - \\dot{q}_{1}, \\  u_{2} - \\dot{q}_{2}, \\  u_{3} - \\dot{q}_{3}, \\  u_{4} - \\dot{q}_{4}, \\  u_{5} - \\dot{q}_{5}\\right]$"
      ],
      "text/plain": [
       "[u₀ - q₀̇, u₁ - q₁̇, u₂ - q₂̇, u₃ - q₃̇, u₄ - q₄̇, u₅ - q₅̇]"
      ]
     },
     "execution_count": 57,
     "metadata": {},
     "output_type": "execute_result"
    }
   ],
   "source": [
    "kdes = [eqs[0].rhs - eqs[0].lhs,\n",
    "        eqs[1].rhs - eqs[1].lhs,\n",
    "        eqs[2].rhs - eqs[2].lhs,\n",
    "        eqs[3].rhs - eqs[3].lhs,\n",
    "        eqs[4].rhs - eqs[4].lhs,\n",
    "        eqs[5].rhs - eqs[5].lhs]\n",
    "\n",
    "kdes"
   ]
  },
  {
   "cell_type": "code",
   "execution_count": 66,
   "metadata": {
    "scrolled": true
   },
   "outputs": [],
   "source": [
    "bodies = [block]\n",
    "\n",
    "kane = me.KanesMethod(N, q, u, kd_eqs=kdes)\n",
    "Fr, Frst = kane.kanes_equations(bodies, loads=loads)\n",
    "sys = System(kane)\n"
   ]
  },
  {
   "cell_type": "code",
   "execution_count": 67,
   "metadata": {},
   "outputs": [],
   "source": [
    "sys.constants = {m: 1.0,\n",
    "                 g: 9.81,\n",
    "                 Ib[0]: 0.1,\n",
    "                 Ib[1]: 0.1,\n",
    "                 Ib[2]: 0.1}"
   ]
  },
  {
   "cell_type": "code",
   "execution_count": 68,
   "metadata": {},
   "outputs": [
    {
     "ename": "KeyError",
     "evalue": "l_spring",
     "output_type": "error",
     "traceback": [
      "\u001b[0;31m---------------------------------------------------------------------------\u001b[0m",
      "\u001b[0;31mKeyError\u001b[0m                                  Traceback (most recent call last)",
      "\u001b[0;32m<ipython-input-68-246b693aebef>\u001b[0m in \u001b[0;36m<module>\u001b[0;34m\u001b[0m\n\u001b[1;32m      3\u001b[0m                           \u001b[0mq\u001b[0m\u001b[0;34m[\u001b[0m\u001b[0;36m2\u001b[0m\u001b[0;34m]\u001b[0m\u001b[0;34m:\u001b[0m \u001b[0;36m0.0\u001b[0m\u001b[0;34m,\u001b[0m\u001b[0;34m\u001b[0m\u001b[0;34m\u001b[0m\u001b[0m\n\u001b[1;32m      4\u001b[0m                           \u001b[0mq\u001b[0m\u001b[0;34m[\u001b[0m\u001b[0;36m3\u001b[0m\u001b[0;34m]\u001b[0m\u001b[0;34m:\u001b[0m \u001b[0;36m0.0\u001b[0m\u001b[0;34m,\u001b[0m\u001b[0;34m\u001b[0m\u001b[0;34m\u001b[0m\u001b[0m\n\u001b[0;32m----> 5\u001b[0;31m                           \u001b[0mq\u001b[0m\u001b[0;34m[\u001b[0m\u001b[0;36m4\u001b[0m\u001b[0;34m]\u001b[0m\u001b[0;34m:\u001b[0m \u001b[0msys\u001b[0m\u001b[0;34m.\u001b[0m\u001b[0mconstants\u001b[0m\u001b[0;34m[\u001b[0m\u001b[0mls\u001b[0m\u001b[0;34m]\u001b[0m \u001b[0;34m+\u001b[0m \u001b[0;36m0.02\u001b[0m\u001b[0;34m,\u001b[0m\u001b[0;34m\u001b[0m\u001b[0;34m\u001b[0m\u001b[0m\n\u001b[0m\u001b[1;32m      6\u001b[0m                           \u001b[0mq\u001b[0m\u001b[0;34m[\u001b[0m\u001b[0;36m5\u001b[0m\u001b[0;34m]\u001b[0m\u001b[0;34m:\u001b[0m \u001b[0;36m0.0\u001b[0m\u001b[0;34m,\u001b[0m\u001b[0;34m\u001b[0m\u001b[0;34m\u001b[0m\u001b[0m\n\u001b[1;32m      7\u001b[0m                           \u001b[0mu\u001b[0m\u001b[0;34m[\u001b[0m\u001b[0;36m0\u001b[0m\u001b[0;34m]\u001b[0m\u001b[0;34m:\u001b[0m \u001b[0;36m0.0\u001b[0m\u001b[0;34m,\u001b[0m\u001b[0;34m\u001b[0m\u001b[0;34m\u001b[0m\u001b[0m\n",
      "\u001b[0;31mKeyError\u001b[0m: l_spring"
     ]
    }
   ],
   "source": [
    "sys.initial_conditions = {q[0]: 0.0,\n",
    "                          q[1]: 0.0,\n",
    "                          q[2]: 0.0,\n",
    "                          q[3]: 0.0,\n",
    "                          q[4]: sys.constants[ls] + 0.02,\n",
    "                          q[5]: 0.0,\n",
    "                          u[0]: 0.0,\n",
    "                          u[1]: 0.0,\n",
    "                          u[2]: 0.0,\n",
    "                          u[3]: 0.0,\n",
    "                          u[4]: 0.0,\n",
    "                          u[5]: 0.0}"
   ]
  },
  {
   "cell_type": "code",
   "execution_count": 31,
   "metadata": {},
   "outputs": [],
   "source": [
    "sys.times = np.linspace(0, 10.0, 100000)"
   ]
  },
  {
   "cell_type": "code",
   "execution_count": 46,
   "metadata": {},
   "outputs": [
    {
     "data": {
      "text/plain": [
       "<function pydy.codegen.ode_function_generators.ODEFunctionGenerator._create_rhs_function.<locals>.rhs(*args)>"
      ]
     },
     "execution_count": 46,
     "metadata": {},
     "output_type": "execute_result"
    }
   ],
   "source": [
    "sys.generate_ode_function(generator = 'cython')"
   ]
  },
  {
   "cell_type": "code",
   "execution_count": 69,
   "metadata": {},
   "outputs": [
    {
     "data": {
      "image/png": "[encoded data removed]",
      "text/latex": [
       "$\\displaystyle \\left\\{Ibx, Iby, Ibz, g, m\\right\\}$"
      ],
      "text/plain": [
       "{Ibx, Iby, Ibz, g, m}"
      ]
     },
     "execution_count": 69,
     "metadata": {},
     "output_type": "execute_result"
    }
   ],
   "source": [
    "sys.constants_symbols\n"
   ]
  },
  {
   "cell_type": "code",
   "execution_count": null,
   "metadata": {},
   "outputs": [],
   "source": []
  }
 ],
 "metadata": {
  "kernelspec": {
   "display_name": "Python 3",
   "language": "python",
   "name": "python3"
  },
  "language_info": {
   "codemirror_mode": {
    "name": "ipython",
    "version": 3
   },
   "file_extension": ".py",
   "mimetype": "text/x-python",
   "name": "python",
   "nbconvert_exporter": "python",
   "pygments_lexer": "ipython3",
   "version": "3.8.5"
  }
 },
 "nbformat": 4,
 "nbformat_minor": 4
}
